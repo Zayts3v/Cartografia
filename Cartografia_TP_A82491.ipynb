{
 "cells": [
  {
   "cell_type": "markdown",
   "metadata": {},
   "source": [
    "# COVID-19 USA"
   ]
  },
  {
   "cell_type": "markdown",
   "metadata": {},
   "source": [
    "## Tiago Pinheiro - A82491"
   ]
  },
  {
   "cell_type": "code",
   "execution_count": 1,
   "metadata": {},
   "outputs": [],
   "source": [
    "import sys\n",
    "import os\n",
    "import numpy as np\n",
    "import matplotlib.pyplot as plt\n",
    "import pandas as pd\n",
    "from qgis.core import *\n",
    "from qgis.PyQt.QtGui import *\n",
    "from qgis.PyQt.QtCore import *\n",
    "#from IPython.display import Image"
   ]
  },
  {
   "cell_type": "markdown",
   "metadata": {},
   "source": [
    "Start Qgis with GUI and start a project"
   ]
  },
  {
   "cell_type": "code",
   "execution_count": 2,
   "metadata": {},
   "outputs": [],
   "source": [
    "QgsApplication.setPrefixPath(r'C:\\\\OSGeo4W64\\\\apps\\\\qgis', True)\n",
    "qgs = QgsApplication([], True)\n",
    "qgs.initQgis()\n",
    "sys.path.append(r'C:\\OSGeo4W64\\apps\\qgis\\python\\plugins')\n",
    "project = QgsProject.instance()"
   ]
  },
  {
   "cell_type": "markdown",
   "metadata": {},
   "source": [
    "Load map layer"
   ]
  },
  {
   "cell_type": "code",
   "execution_count": 3,
   "metadata": {},
   "outputs": [
    {
     "name": "stdout",
     "output_type": "stream",
     "text": [
      "Sucess\n"
     ]
    }
   ],
   "source": [
    "path = \"Testdata/tl_2017_us_state/tl_2017_us_state.shp\"\n",
    "map_layer = QgsVectorLayer(path, 'USA map', 'ogr')\n",
    "\n",
    "if not map_layer.isValid():\n",
    "    print(\"Failed to load the layer!\")\n",
    "else:\n",
    "    project.addMapLayer(map_layer)\n",
    "    print(\"Sucess\")"
   ]
  },
  {
   "cell_type": "markdown",
   "metadata": {},
   "source": [
    "Load CSV file"
   ]
  },
  {
   "cell_type": "code",
   "execution_count": 4,
   "metadata": {},
   "outputs": [
    {
     "name": "stdout",
     "output_type": "stream",
     "text": [
      "Sucess\n"
     ]
    }
   ],
   "source": [
    "csv_path = \"file:///D:/cases_US.csv\"\n",
    "csv_layer = QgsVectorLayer(csv_path, 'Data', 'delimitedtext')\n",
    "\n",
    "if not csv_layer.isValid():\n",
    "    print('Layer failed to load!')\n",
    "else:\n",
    "    project.addMapLayer(csv_layer)\n",
    "    print(\"Sucess\")"
   ]
  },
  {
   "cell_type": "code",
   "execution_count": 11,
   "metadata": {},
   "outputs": [],
   "source": [
    "joinObject = QgsVectorLayerJoinInfo()\n",
    "joinObject.setJoinFieldName('NAME')\n",
    "joinObject.setTargetFieldName('Province_State')\n",
    "joinObject.setJoinLayerId(csv_layer.id())\n",
    "joinObject.setUsingMemoryCache(True)\n",
    "joinObject.setJoinLayer(csv_layer)\n",
    "flag = map_layer.addJoin(joinObject)"
   ]
  },
  {
   "cell_type": "code",
   "execution_count": 13,
   "metadata": {},
   "outputs": [
    {
     "ename": "SyntaxError",
     "evalue": "Missing parentheses in call to 'print'. Did you mean print(names)? (<ipython-input-13-723fa7d1e1cd>, line 3)",
     "output_type": "error",
     "traceback": [
      "\u001b[1;36m  File \u001b[1;32m\"<ipython-input-13-723fa7d1e1cd>\"\u001b[1;36m, line \u001b[1;32m3\u001b[0m\n\u001b[1;33m    print names\u001b[0m\n\u001b[1;37m              ^\u001b[0m\n\u001b[1;31mSyntaxError\u001b[0m\u001b[1;31m:\u001b[0m Missing parentheses in call to 'print'. Did you mean print(names)?\n"
     ]
    }
   ],
   "source": [
    "names = [layer.name() for layer in project.mapLayers().values()]\n",
    "\n",
    "print names"
   ]
  },
  {
   "cell_type": "code",
   "execution_count": 9,
   "metadata": {
    "scrolled": false
   },
   "outputs": [
    {
     "name": "stdout",
     "output_type": "stream",
     "text": [
      "West Virginia\n",
      "Florida\n",
      "Illinois\n",
      "Minnesota\n",
      "Maryland\n",
      "Rhode Island\n",
      "Idaho\n",
      "New Hampshire\n",
      "North Carolina\n",
      "Vermont\n",
      "Connecticut\n",
      "Delaware\n",
      "New Mexico\n",
      "California\n",
      "New Jersey\n",
      "Wisconsin\n",
      "Oregon\n",
      "Nebraska\n",
      "Pennsylvania\n",
      "Washington\n",
      "Louisiana\n",
      "Georgia\n",
      "Alabama\n",
      "Utah\n",
      "Ohio\n",
      "Texas\n",
      "Colorado\n",
      "South Carolina\n",
      "Oklahoma\n",
      "Tennessee\n",
      "Wyoming\n",
      "Hawaii\n",
      "North Dakota\n",
      "Kentucky\n",
      "United States Virgin Islands\n",
      "Commonwealth of the Northern Mariana Islands\n",
      "Guam\n",
      "Maine\n",
      "New York\n",
      "Nevada\n",
      "Alaska\n",
      "American Samoa\n",
      "Michigan\n",
      "Arkansas\n",
      "Mississippi\n",
      "Missouri\n",
      "Montana\n",
      "Kansas\n",
      "Indiana\n",
      "Puerto Rico\n",
      "South Dakota\n",
      "Massachusetts\n",
      "Virginia\n",
      "District of Columbia\n",
      "Iowa\n",
      "Arizona\n"
     ]
    }
   ],
   "source": [
    "\n",
    "\n",
    "\n",
    "for feature in map_layer.getFeatures():\n",
    "    print(feature['NAME'])"
   ]
  },
  {
   "cell_type": "code",
   "execution_count": null,
   "metadata": {
    "scrolled": true
   },
   "outputs": [],
   "source": [
    "expr_sem_casos = QgsExpression( \" \\\"confirmados_concelho_20/04/2020\\\" IS NULL \" )\n",
    "virgens = list(concelho.getFeatures( QgsFeatureRequest( expr_sem_casos ) ))\n",
    "for c in virgens:\n",
    "        print(\"Em {} não há pelos menos 3 casos confirmados\".format(c[\"concelho\"]))"
   ]
  },
  {
   "cell_type": "code",
   "execution_count": null,
   "metadata": {},
   "outputs": [],
   "source": [
    "xt = concelho.extent()\n",
    "# print(xt)\n",
    "width  = 400\n",
    "height = int(width*xt.height()/xt.width())\n",
    "print(\"Gerar mapa com {} por {}\".format(width, height))\n",
    "\n",
    "options = QgsMapSettings()\n",
    "options.setLayers([concelho])\n",
    "options.setBackgroundColor(QColor(255, 255, 255))\n",
    "options.setOutputSize(QSize(width, height))\n",
    "options.setExtent(xt)\n",
    "           \n",
    "render = QgsMapRendererParallelJob(options)\n",
    "render.start()\n",
    "render.waitForFinished()\n",
    "\n",
    "image = render.renderedImage()\n"
   ]
  },
  {
   "cell_type": "code",
   "execution_count": null,
   "metadata": {},
   "outputs": [],
   "source": [
    "from IPython.display import Image"
   ]
  },
  {
   "cell_type": "code",
   "execution_count": null,
   "metadata": {},
   "outputs": [],
   "source": [
    "imgbuf= QBuffer()\n",
    "imgbuf.open( QIODevice.ReadWrite )\n",
    "image.save( imgbuf,\"PNG\" )\n",
    "Image( imgbuf.data() )"
   ]
  },
  {
   "cell_type": "code",
   "execution_count": null,
   "metadata": {},
   "outputs": [],
   "source": []
  }
 ],
 "metadata": {
  "kernelspec": {
   "display_name": "Python 3",
   "language": "python",
   "name": "python3"
  },
  "language_info": {
   "codemirror_mode": {
    "name": "ipython",
    "version": 3
   },
   "file_extension": ".py",
   "mimetype": "text/x-python",
   "name": "python",
   "nbconvert_exporter": "python",
   "pygments_lexer": "ipython3",
   "version": "3.7.0"
  }
 },
 "nbformat": 4,
 "nbformat_minor": 2
}
